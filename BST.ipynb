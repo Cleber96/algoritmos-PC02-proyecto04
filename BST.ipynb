{
 "cells": [
  {
   "cell_type": "markdown",
   "id": "394bf19a",
   "metadata": {},
   "source": [
    "# BTS (árbol de busqueda binaria)"
   ]
  },
  {
   "cell_type": "markdown",
   "id": "b1eeae87",
   "metadata": {},
   "source": [
    "## explicación"
   ]
  },
  {
   "cell_type": "code",
   "execution_count": null,
   "id": "0aa9142b",
   "metadata": {},
   "outputs": [],
   "source": []
  },
  {
   "cell_type": "markdown",
   "id": "bbdafade",
   "metadata": {},
   "source": [
    "## implementación"
   ]
  },
  {
   "cell_type": "code",
   "execution_count": 15,
   "id": "7fec0e48",
   "metadata": {},
   "outputs": [],
   "source": [
    "class Node:\n",
    "    def __init__(self, key):\n",
    "        self.key = key\n",
    "        self.left = None\n",
    "        self.right = None\n",
    "        self.parent = None\n",
    "        \n",
    "    def __repr__(self):\n",
    "        left_key = self.left.key if self.left else None\n",
    "        right_key = self.right.key if self.right else None\n",
    "        return f\"Node(key={self.key}, left={left_key}, right={right_key})\""
   ]
  },
  {
   "cell_type": "code",
   "execution_count": 74,
   "id": "9621f8cd",
   "metadata": {},
   "outputs": [],
   "source": [
    "class BinarySearchTree:\n",
    "    def __init__(self):\n",
    "        self.root = None\n",
    "    \n",
    "    def insert(self, key):\n",
    "        new_node = Node(key)\n",
    "        if self.root is None:\n",
    "            self.root = new_node    \n",
    "            return\n",
    "        self.insert_recursive(self.root, new_node)\n",
    "        \n",
    "    def insert_recursive(self, root_aux , node):\n",
    "        if root_aux.key < node.key:\n",
    "            if root_aux.right is None:\n",
    "                node.parent = root_aux                \n",
    "                root_aux.right = node\n",
    "            else:\n",
    "                self.insert_recursive(root_aux.right, node)\n",
    "        else:\n",
    "            if root_aux.left is None:\n",
    "                node.parent = root_aux\n",
    "                root_aux.left = node\n",
    "            else:\n",
    "                self.insert_recursive(root_aux.left, node)\n",
    "\n",
    "    def search(self, key):\n",
    "        return self.search_recursive(self.root, key)\n",
    "    \n",
    "    def search_recursive(self, root_aux, key):\n",
    "        if root_aux is None:\n",
    "            return None\n",
    "        elif root_aux.key == key:\n",
    "            return root_aux\n",
    "        elif root_aux.key > key:\n",
    "            return self.search_recursive(root_aux.left, key)\n",
    "        elif root_aux.key < key:\n",
    "            return self.search_recursive(root_aux.right, key)\n",
    "        else:\n",
    "            return None\n",
    "    \n",
    "    def inorder_traversal(self):\n",
    "      result = []\n",
    "      self._inorder_recursive(self.root, result)\n",
    "      return result\n",
    "\n",
    "    def _inorder_recursive(self, current_node, result_list):\n",
    "      if current_node is not None:\n",
    "          self._inorder_recursive(current_node.left, result_list)\n",
    "          result_list.append(current_node.key)\n",
    "          self._inorder_recursive(current_node.right, result_list)\n"
   ]
  },
  {
   "cell_type": "code",
   "execution_count": 85,
   "id": "ba3d6581",
   "metadata": {},
   "outputs": [],
   "source": [
    "bst = BinarySearchTree()\n",
    "bst.insert(20)\n",
    "bst.insert(10)\n",
    "bst.insert(30)\n",
    "bst.insert(5)\n",
    "bst.insert(15)"
   ]
  },
  {
   "cell_type": "code",
   "execution_count": 86,
   "id": "4a81570d",
   "metadata": {},
   "outputs": [
    {
     "data": {
      "text/plain": [
       "Node(key=10, left=5, right=15)"
      ]
     },
     "execution_count": 86,
     "metadata": {},
     "output_type": "execute_result"
    }
   ],
   "source": [
    "nodo_10 = bst.search(10)\n",
    "nodo_10"
   ]
  },
  {
   "cell_type": "code",
   "execution_count": 87,
   "id": "f652f3cd",
   "metadata": {},
   "outputs": [
    {
     "name": "stdout",
     "output_type": "stream",
     "text": [
      "None\n"
     ]
    }
   ],
   "source": [
    "print(bst.search(7))\n",
    "bst.search(12)"
   ]
  },
  {
   "cell_type": "code",
   "execution_count": 88,
   "id": "efbbb084",
   "metadata": {},
   "outputs": [
    {
     "data": {
      "text/plain": [
       "[5, 10, 15, 20, 30]"
      ]
     },
     "execution_count": 88,
     "metadata": {},
     "output_type": "execute_result"
    }
   ],
   "source": [
    "bst.inorder_traversal()"
   ]
  },
  {
   "cell_type": "code",
   "execution_count": null,
   "id": "594dd20b",
   "metadata": {},
   "outputs": [],
   "source": []
  }
 ],
 "metadata": {
  "kernelspec": {
   "display_name": "venv",
   "language": "python",
   "name": "python3"
  },
  "language_info": {
   "codemirror_mode": {
    "name": "ipython",
    "version": 3
   },
   "file_extension": ".py",
   "mimetype": "text/x-python",
   "name": "python",
   "nbconvert_exporter": "python",
   "pygments_lexer": "ipython3",
   "version": "3.12.3"
  }
 },
 "nbformat": 4,
 "nbformat_minor": 5
}
